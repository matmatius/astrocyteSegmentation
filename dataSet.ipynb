{
 "cells": [
  {
   "cell_type": "code",
   "execution_count": 2,
   "metadata": {},
   "outputs": [],
   "source": [
    "from PIL import Image\n",
    "from matplotlib.pyplot import imshow\n",
    "import pandas\n",
    "import matplotlib.pylab as plt\n",
    "import os\n",
    "import glob\n",
    "from torch.utils.data import Dataset, DataLoader\n",
    "import torch\n",
    "import numpy as np"
   ]
  },
  {
   "cell_type": "code",
   "execution_count": 3,
   "metadata": {},
   "outputs": [],
   "source": [
    "# Change these directories as needed\n",
    "\n",
    "# Image Directories \n",
    "# image\n",
    "dir_image='/home/matmatius/Desktop/otsuImages/originalrgb/'\n",
    "# mask\n",
    "dir_mask='/home/matmatius/Desktop/otsuImages/masksrgb/'\n",
    "# scale image"
   ]
  },
  {
   "cell_type": "code",
   "execution_count": 4,
   "metadata": {},
   "outputs": [
    {
     "data": {
      "text/plain": [
       "['63.tif', '99.tif', '85.tif']"
      ]
     },
     "execution_count": 4,
     "metadata": {},
     "output_type": "execute_result"
    }
   ],
   "source": [
    "os.listdir(dir_image)[0:3]"
   ]
  },
  {
   "cell_type": "code",
   "execution_count": 5,
   "metadata": {},
   "outputs": [
    {
     "data": {
      "text/plain": [
       "['63.tif', '99.tif', '85.tif']"
      ]
     },
     "execution_count": 5,
     "metadata": {},
     "output_type": "execute_result"
    }
   ],
   "source": [
    "os.listdir(dir_mask)[0:3]"
   ]
  },
  {
   "cell_type": "code",
   "execution_count": 6,
   "metadata": {},
   "outputs": [
    {
     "data": {
      "text/plain": [
       "['/home/matmatius/Desktop/otsuImages/originalrgb/63.tif',\n",
       " '/home/matmatius/Desktop/otsuImages/originalrgb/99.tif',\n",
       " '/home/matmatius/Desktop/otsuImages/originalrgb/85.tif']"
      ]
     },
     "execution_count": 6,
     "metadata": {},
     "output_type": "execute_result"
    }
   ],
   "source": [
    "[os.path.join(dir_image,file) for file in  os.listdir(dir_image)][0:3]"
   ]
  },
  {
   "cell_type": "code",
   "execution_count": 7,
   "metadata": {},
   "outputs": [
    {
     "data": {
      "text/plain": [
       "['/home/matmatius/Desktop/otsuImages/masksrgb/63.tif',\n",
       " '/home/matmatius/Desktop/otsuImages/masksrgb/99.tif',\n",
       " '/home/matmatius/Desktop/otsuImages/masksrgb/85.tif']"
      ]
     },
     "execution_count": 7,
     "metadata": {},
     "output_type": "execute_result"
    }
   ],
   "source": [
    "[os.path.join(dir_mask,file) for file in  os.listdir(dir_mask)][0:3]"
   ]
  },
  {
   "cell_type": "code",
   "execution_count": 8,
   "metadata": {},
   "outputs": [],
   "source": [
    "image_files=[os.path.join(dir_image,file) for file in  os.listdir(dir_image)]\n",
    "image_files.sort()\n",
    "mask_files=[os.path.join(dir_mask,file) for file in  os.listdir(dir_mask)]\n",
    "mask_files.sort()"
   ]
  },
  {
   "cell_type": "code",
   "execution_count": 9,
   "metadata": {},
   "outputs": [],
   "source": [
    "image_files=[os.path.join(dir_image,file) for file in  os.listdir(dir_image) if file.endswith(\".tif\")]\n",
    "image_files.sort()\n",
    "mask_files=[os.path.join(dir_mask,file) for file in  os.listdir(dir_mask)if file.endswith(\".tif\")] \n",
    "mask_files.sort()"
   ]
  },
  {
   "cell_type": "code",
   "execution_count": 10,
   "metadata": {
    "scrolled": false
   },
   "outputs": [
    {
     "data": {
      "text/plain": [
       "['/home/matmatius/Desktop/otsuImages/masksrgb/0.tif',\n",
       " '/home/matmatius/Desktop/otsuImages/masksrgb/1.tif',\n",
       " '/home/matmatius/Desktop/otsuImages/masksrgb/10.tif',\n",
       " '/home/matmatius/Desktop/otsuImages/masksrgb/100.tif',\n",
       " '/home/matmatius/Desktop/otsuImages/masksrgb/101.tif',\n",
       " '/home/matmatius/Desktop/otsuImages/masksrgb/102.tif',\n",
       " '/home/matmatius/Desktop/otsuImages/masksrgb/103.tif',\n",
       " '/home/matmatius/Desktop/otsuImages/masksrgb/104.tif',\n",
       " '/home/matmatius/Desktop/otsuImages/masksrgb/105.tif',\n",
       " '/home/matmatius/Desktop/otsuImages/masksrgb/106.tif',\n",
       " '/home/matmatius/Desktop/otsuImages/masksrgb/107.tif',\n",
       " '/home/matmatius/Desktop/otsuImages/masksrgb/108.tif',\n",
       " '/home/matmatius/Desktop/otsuImages/masksrgb/109.tif',\n",
       " '/home/matmatius/Desktop/otsuImages/masksrgb/11.tif',\n",
       " '/home/matmatius/Desktop/otsuImages/masksrgb/110.tif',\n",
       " '/home/matmatius/Desktop/otsuImages/masksrgb/111.tif',\n",
       " '/home/matmatius/Desktop/otsuImages/masksrgb/112.tif',\n",
       " '/home/matmatius/Desktop/otsuImages/masksrgb/113.tif',\n",
       " '/home/matmatius/Desktop/otsuImages/masksrgb/114.tif',\n",
       " '/home/matmatius/Desktop/otsuImages/masksrgb/115.tif',\n",
       " '/home/matmatius/Desktop/otsuImages/masksrgb/116.tif',\n",
       " '/home/matmatius/Desktop/otsuImages/masksrgb/117.tif',\n",
       " '/home/matmatius/Desktop/otsuImages/masksrgb/12.tif',\n",
       " '/home/matmatius/Desktop/otsuImages/masksrgb/13.tif',\n",
       " '/home/matmatius/Desktop/otsuImages/masksrgb/14.tif',\n",
       " '/home/matmatius/Desktop/otsuImages/masksrgb/15.tif',\n",
       " '/home/matmatius/Desktop/otsuImages/masksrgb/16.tif',\n",
       " '/home/matmatius/Desktop/otsuImages/masksrgb/17.tif',\n",
       " '/home/matmatius/Desktop/otsuImages/masksrgb/18.tif',\n",
       " '/home/matmatius/Desktop/otsuImages/masksrgb/19.tif',\n",
       " '/home/matmatius/Desktop/otsuImages/masksrgb/2.tif',\n",
       " '/home/matmatius/Desktop/otsuImages/masksrgb/20.tif',\n",
       " '/home/matmatius/Desktop/otsuImages/masksrgb/21.tif',\n",
       " '/home/matmatius/Desktop/otsuImages/masksrgb/22.tif',\n",
       " '/home/matmatius/Desktop/otsuImages/masksrgb/23.tif',\n",
       " '/home/matmatius/Desktop/otsuImages/masksrgb/24.tif',\n",
       " '/home/matmatius/Desktop/otsuImages/masksrgb/25.tif',\n",
       " '/home/matmatius/Desktop/otsuImages/masksrgb/26.tif',\n",
       " '/home/matmatius/Desktop/otsuImages/masksrgb/27.tif',\n",
       " '/home/matmatius/Desktop/otsuImages/masksrgb/28.tif',\n",
       " '/home/matmatius/Desktop/otsuImages/masksrgb/29.tif',\n",
       " '/home/matmatius/Desktop/otsuImages/masksrgb/3.tif',\n",
       " '/home/matmatius/Desktop/otsuImages/masksrgb/30.tif',\n",
       " '/home/matmatius/Desktop/otsuImages/masksrgb/31.tif',\n",
       " '/home/matmatius/Desktop/otsuImages/masksrgb/32.tif',\n",
       " '/home/matmatius/Desktop/otsuImages/masksrgb/33.tif',\n",
       " '/home/matmatius/Desktop/otsuImages/masksrgb/34.tif',\n",
       " '/home/matmatius/Desktop/otsuImages/masksrgb/35.tif',\n",
       " '/home/matmatius/Desktop/otsuImages/masksrgb/36.tif',\n",
       " '/home/matmatius/Desktop/otsuImages/masksrgb/37.tif',\n",
       " '/home/matmatius/Desktop/otsuImages/masksrgb/38.tif',\n",
       " '/home/matmatius/Desktop/otsuImages/masksrgb/39.tif',\n",
       " '/home/matmatius/Desktop/otsuImages/masksrgb/4.tif',\n",
       " '/home/matmatius/Desktop/otsuImages/masksrgb/40.tif',\n",
       " '/home/matmatius/Desktop/otsuImages/masksrgb/41.tif',\n",
       " '/home/matmatius/Desktop/otsuImages/masksrgb/42.tif',\n",
       " '/home/matmatius/Desktop/otsuImages/masksrgb/43.tif',\n",
       " '/home/matmatius/Desktop/otsuImages/masksrgb/44.tif',\n",
       " '/home/matmatius/Desktop/otsuImages/masksrgb/45.tif',\n",
       " '/home/matmatius/Desktop/otsuImages/masksrgb/46.tif',\n",
       " '/home/matmatius/Desktop/otsuImages/masksrgb/47.tif',\n",
       " '/home/matmatius/Desktop/otsuImages/masksrgb/48.tif',\n",
       " '/home/matmatius/Desktop/otsuImages/masksrgb/49.tif',\n",
       " '/home/matmatius/Desktop/otsuImages/masksrgb/5.tif',\n",
       " '/home/matmatius/Desktop/otsuImages/masksrgb/50.tif',\n",
       " '/home/matmatius/Desktop/otsuImages/masksrgb/51.tif',\n",
       " '/home/matmatius/Desktop/otsuImages/masksrgb/52.tif',\n",
       " '/home/matmatius/Desktop/otsuImages/masksrgb/53.tif',\n",
       " '/home/matmatius/Desktop/otsuImages/masksrgb/54.tif',\n",
       " '/home/matmatius/Desktop/otsuImages/masksrgb/55.tif',\n",
       " '/home/matmatius/Desktop/otsuImages/masksrgb/56.tif',\n",
       " '/home/matmatius/Desktop/otsuImages/masksrgb/57.tif',\n",
       " '/home/matmatius/Desktop/otsuImages/masksrgb/58.tif',\n",
       " '/home/matmatius/Desktop/otsuImages/masksrgb/59.tif',\n",
       " '/home/matmatius/Desktop/otsuImages/masksrgb/6.tif',\n",
       " '/home/matmatius/Desktop/otsuImages/masksrgb/60.tif',\n",
       " '/home/matmatius/Desktop/otsuImages/masksrgb/61.tif',\n",
       " '/home/matmatius/Desktop/otsuImages/masksrgb/62.tif',\n",
       " '/home/matmatius/Desktop/otsuImages/masksrgb/63.tif',\n",
       " '/home/matmatius/Desktop/otsuImages/masksrgb/64.tif',\n",
       " '/home/matmatius/Desktop/otsuImages/masksrgb/65.tif',\n",
       " '/home/matmatius/Desktop/otsuImages/masksrgb/66.tif',\n",
       " '/home/matmatius/Desktop/otsuImages/masksrgb/67.tif',\n",
       " '/home/matmatius/Desktop/otsuImages/masksrgb/68.tif',\n",
       " '/home/matmatius/Desktop/otsuImages/masksrgb/69.tif',\n",
       " '/home/matmatius/Desktop/otsuImages/masksrgb/7.tif',\n",
       " '/home/matmatius/Desktop/otsuImages/masksrgb/70.tif',\n",
       " '/home/matmatius/Desktop/otsuImages/masksrgb/71.tif',\n",
       " '/home/matmatius/Desktop/otsuImages/masksrgb/72.tif',\n",
       " '/home/matmatius/Desktop/otsuImages/masksrgb/73.tif',\n",
       " '/home/matmatius/Desktop/otsuImages/masksrgb/74.tif',\n",
       " '/home/matmatius/Desktop/otsuImages/masksrgb/75.tif',\n",
       " '/home/matmatius/Desktop/otsuImages/masksrgb/76.tif',\n",
       " '/home/matmatius/Desktop/otsuImages/masksrgb/77.tif',\n",
       " '/home/matmatius/Desktop/otsuImages/masksrgb/78.tif',\n",
       " '/home/matmatius/Desktop/otsuImages/masksrgb/79.tif',\n",
       " '/home/matmatius/Desktop/otsuImages/masksrgb/8.tif',\n",
       " '/home/matmatius/Desktop/otsuImages/masksrgb/80.tif',\n",
       " '/home/matmatius/Desktop/otsuImages/masksrgb/81.tif',\n",
       " '/home/matmatius/Desktop/otsuImages/masksrgb/82.tif',\n",
       " '/home/matmatius/Desktop/otsuImages/masksrgb/83.tif',\n",
       " '/home/matmatius/Desktop/otsuImages/masksrgb/84.tif',\n",
       " '/home/matmatius/Desktop/otsuImages/masksrgb/85.tif',\n",
       " '/home/matmatius/Desktop/otsuImages/masksrgb/86.tif',\n",
       " '/home/matmatius/Desktop/otsuImages/masksrgb/87.tif',\n",
       " '/home/matmatius/Desktop/otsuImages/masksrgb/88.tif',\n",
       " '/home/matmatius/Desktop/otsuImages/masksrgb/89.tif',\n",
       " '/home/matmatius/Desktop/otsuImages/masksrgb/9.tif',\n",
       " '/home/matmatius/Desktop/otsuImages/masksrgb/90.tif',\n",
       " '/home/matmatius/Desktop/otsuImages/masksrgb/91.tif',\n",
       " '/home/matmatius/Desktop/otsuImages/masksrgb/92.tif',\n",
       " '/home/matmatius/Desktop/otsuImages/masksrgb/93.tif',\n",
       " '/home/matmatius/Desktop/otsuImages/masksrgb/94.tif',\n",
       " '/home/matmatius/Desktop/otsuImages/masksrgb/95.tif',\n",
       " '/home/matmatius/Desktop/otsuImages/masksrgb/96.tif',\n",
       " '/home/matmatius/Desktop/otsuImages/masksrgb/97.tif',\n",
       " '/home/matmatius/Desktop/otsuImages/masksrgb/98.tif',\n",
       " '/home/matmatius/Desktop/otsuImages/masksrgb/99.tif']"
      ]
     },
     "execution_count": 10,
     "metadata": {},
     "output_type": "execute_result"
    }
   ],
   "source": [
    "mask_files"
   ]
  },
  {
   "cell_type": "code",
   "execution_count": 11,
   "metadata": {
    "scrolled": false
   },
   "outputs": [
    {
     "data": {
      "image/png": "[encoded data removed]",
      "text/plain": [
       "<Figure size 432x288 with 1 Axes>"
      ]
     },
     "metadata": {
      "needs_background": "light"
     },
     "output_type": "display_data"
    }
   ],
   "source": [
    "image = Image.open(image_files[0])\n",
    "# you can view the image directly image\n",
    "plt.imshow(image)\n",
    "#plt.title(\"1st Image With No Cracks\")\n",
    "plt.show()"
   ]
  },
  {
   "cell_type": "code",
   "execution_count": 12,
   "metadata": {
    "scrolled": true
   },
   "outputs": [
    {
     "data": {
      "image/png": "[encoded data removed]",
      "text/plain": [
       "<Figure size 432x288 with 1 Axes>"
      ]
     },
     "metadata": {
      "needs_background": "light"
     },
     "output_type": "display_data"
    }
   ],
   "source": [
    "mask = Image.open(mask_files[0])\n",
    "# you can view the image directly image\n",
    "plt.imshow(mask)\n",
    "#plt.title(\"1st Image With No Cracks\")\n",
    "plt.show()"
   ]
  },
  {
   "cell_type": "code",
   "execution_count": 13,
   "metadata": {},
   "outputs": [],
   "source": [
    "#torch.load(mask)"
   ]
  },
  {
   "cell_type": "code",
   "execution_count": 14,
   "metadata": {},
   "outputs": [],
   "source": [
    "dir_image='/home/matmatius/Desktop/otsuImages/originalrgb/'\n",
    "# mask\n",
    "dir_mask='/home/matmatius/Desktop/otsuImages/masksrgb/'"
   ]
  },
  {
   "cell_type": "code",
   "execution_count": 15,
   "metadata": {},
   "outputs": [],
   "source": [
    "class Dataset(Dataset):\n",
    "\n",
    "    # Constructor\n",
    "    #def __init__(self,transform=None,train=True):\n",
    "    def __init__(self,dir_image,dir_mask):\n",
    "        self.image_files=[os.path.join(dir_image,file) for file in  os.listdir(dir_image) if file.endswith(\".tif\")]\n",
    "        self.image_files.sort()\n",
    "        self.mask_files=[os.path.join(dir_mask,file) for file in  os.listdir(dir_mask)if file.endswith(\".tif\")] \n",
    "        self.mask_files.sort()\n",
    "        self.len=len(self.image_files)\n",
    "        \n",
    "    # Get the length\n",
    "    def __len__(self):\n",
    "        return self.len\n",
    "    \n",
    "    def preprocess(cls,pil_img):\n",
    "        \n",
    "        # HWC to CHW\n",
    "        # transpose for pytorch\n",
    "        img_nd = np.array(pil_img)\n",
    "\n",
    "        img_trans = img_nd.transpose((2, 0, 1))\n",
    "        \n",
    "                \n",
    "        if img_trans.max() > 1:\n",
    "            img_trans = img_trans / 255\n",
    "                \n",
    "        if (3,128,128)==img_trans.shape:\n",
    "            img_trans=(img_trans[0]+img_trans[1]+img_trans[2])/3\n",
    "            img_trans=img_trans.reshape((1,128,128))\n",
    "            \n",
    "        return img_trans\n",
    "    # Getter\n",
    "    def __getitem__(self, idx):\n",
    "               \n",
    "        image=self.preprocess(Image.open(self.image_files[idx]))\n",
    "        mask=self.preprocess(Image.open(self.mask_files[idx]))\n",
    "        \n",
    "                  \n",
    "        # If there is any transform method, apply it onto the image\n",
    "        #if self.transform:\n",
    "            #image = self.transform(image)\n",
    "\n",
    "        return {'image': torch.from_numpy(image), 'mask':torch.from_numpy(mask)}"
   ]
  },
  {
   "cell_type": "code",
   "execution_count": 16,
   "metadata": {},
   "outputs": [],
   "source": [
    "dataset=Dataset(dir_image,dir_mask)"
   ]
  },
  {
   "cell_type": "code",
   "execution_count": 17,
   "metadata": {},
   "outputs": [
    {
     "name": "stdout",
     "output_type": "stream",
     "text": [
      "tensor(1., dtype=torch.float64)\n",
      "tensor(1., dtype=torch.float64)\n",
      "tensor(1., dtype=torch.float64)\n",
      "tensor(1., dtype=torch.float64)\n",
      "tensor(1., dtype=torch.float64)\n",
      "tensor(1., dtype=torch.float64)\n",
      "tensor(1., dtype=torch.float64)\n",
      "tensor(1., dtype=torch.float64)\n",
      "tensor(1., dtype=torch.float64)\n",
      "tensor(1., dtype=torch.float64)\n",
      "tensor(1., dtype=torch.float64)\n",
      "tensor(1., dtype=torch.float64)\n",
      "tensor(1., dtype=torch.float64)\n",
      "tensor(1., dtype=torch.float64)\n",
      "tensor(1., dtype=torch.float64)\n",
      "tensor(1., dtype=torch.float64)\n",
      "tensor(1., dtype=torch.float64)\n",
      "tensor(1., dtype=torch.float64)\n",
      "tensor(1., dtype=torch.float64)\n",
      "tensor(1., dtype=torch.float64)\n",
      "tensor(1., dtype=torch.float64)\n",
      "tensor(1., dtype=torch.float64)\n",
      "tensor(1., dtype=torch.float64)\n",
      "tensor(1., dtype=torch.float64)\n",
      "tensor(1., dtype=torch.float64)\n",
      "tensor(1., dtype=torch.float64)\n",
      "tensor(1., dtype=torch.float64)\n",
      "tensor(1., dtype=torch.float64)\n",
      "tensor(1., dtype=torch.float64)\n",
      "tensor(1., dtype=torch.float64)\n",
      "tensor(1., dtype=torch.float64)\n",
      "tensor(1., dtype=torch.float64)\n",
      "tensor(1., dtype=torch.float64)\n",
      "tensor(1., dtype=torch.float64)\n",
      "tensor(1., dtype=torch.float64)\n",
      "tensor(1., dtype=torch.float64)\n",
      "tensor(1., dtype=torch.float64)\n",
      "tensor(1., dtype=torch.float64)\n",
      "tensor(1., dtype=torch.float64)\n",
      "tensor(1., dtype=torch.float64)\n",
      "tensor(1., dtype=torch.float64)\n",
      "tensor(1., dtype=torch.float64)\n",
      "tensor(1., dtype=torch.float64)\n",
      "tensor(1., dtype=torch.float64)\n",
      "tensor(1., dtype=torch.float64)\n",
      "tensor(1., dtype=torch.float64)\n",
      "tensor(1., dtype=torch.float64)\n",
      "tensor(1., dtype=torch.float64)\n",
      "tensor(1., dtype=torch.float64)\n",
      "tensor(1., dtype=torch.float64)\n",
      "tensor(1., dtype=torch.float64)\n",
      "tensor(1., dtype=torch.float64)\n",
      "tensor(1., dtype=torch.float64)\n",
      "tensor(1., dtype=torch.float64)\n",
      "tensor(1., dtype=torch.float64)\n",
      "tensor(1., dtype=torch.float64)\n",
      "tensor(1., dtype=torch.float64)\n",
      "tensor(1., dtype=torch.float64)\n",
      "tensor(1., dtype=torch.float64)\n",
      "tensor(1., dtype=torch.float64)\n",
      "tensor(1., dtype=torch.float64)\n",
      "tensor(1., dtype=torch.float64)\n",
      "tensor(1., dtype=torch.float64)\n",
      "tensor(1., dtype=torch.float64)\n",
      "tensor(1., dtype=torch.float64)\n",
      "tensor(1., dtype=torch.float64)\n",
      "tensor(1., dtype=torch.float64)\n",
      "tensor(1., dtype=torch.float64)\n",
      "tensor(1., dtype=torch.float64)\n",
      "tensor(1., dtype=torch.float64)\n",
      "tensor(1., dtype=torch.float64)\n",
      "tensor(1., dtype=torch.float64)\n",
      "tensor(1., dtype=torch.float64)\n",
      "tensor(1., dtype=torch.float64)\n",
      "tensor(1., dtype=torch.float64)\n",
      "tensor(1., dtype=torch.float64)\n",
      "tensor(1., dtype=torch.float64)\n",
      "tensor(1., dtype=torch.float64)\n",
      "tensor(1., dtype=torch.float64)\n",
      "tensor(1., dtype=torch.float64)\n",
      "tensor(1., dtype=torch.float64)\n",
      "tensor(1., dtype=torch.float64)\n",
      "tensor(1., dtype=torch.float64)\n",
      "tensor(1., dtype=torch.float64)\n",
      "tensor(1., dtype=torch.float64)\n",
      "tensor(1., dtype=torch.float64)\n",
      "tensor(1., dtype=torch.float64)\n",
      "tensor(1., dtype=torch.float64)\n",
      "tensor(1., dtype=torch.float64)\n",
      "tensor(1., dtype=torch.float64)\n",
      "tensor(1., dtype=torch.float64)\n",
      "tensor(1., dtype=torch.float64)\n",
      "tensor(1., dtype=torch.float64)\n",
      "tensor(1., dtype=torch.float64)\n",
      "tensor(1., dtype=torch.float64)\n",
      "tensor(1., dtype=torch.float64)\n",
      "tensor(1., dtype=torch.float64)\n",
      "tensor(1., dtype=torch.float64)\n",
      "tensor(1., dtype=torch.float64)\n",
      "tensor(1., dtype=torch.float64)\n",
      "tensor(1., dtype=torch.float64)\n",
      "tensor(1., dtype=torch.float64)\n",
      "tensor(1., dtype=torch.float64)\n",
      "tensor(1., dtype=torch.float64)\n",
      "tensor(1., dtype=torch.float64)\n",
      "tensor(1., dtype=torch.float64)\n",
      "tensor(1., dtype=torch.float64)\n",
      "tensor(1., dtype=torch.float64)\n",
      "tensor(1., dtype=torch.float64)\n",
      "tensor(1., dtype=torch.float64)\n",
      "tensor(1., dtype=torch.float64)\n",
      "tensor(1., dtype=torch.float64)\n",
      "tensor(1., dtype=torch.float64)\n",
      "tensor(1., dtype=torch.float64)\n",
      "tensor(1., dtype=torch.float64)\n",
      "tensor(1., dtype=torch.float64)\n",
      "tensor(1., dtype=torch.float64)\n",
      "tensor(1., dtype=torch.float64)\n"
     ]
    }
   ],
   "source": [
    "for i in range(len(dataset)):\n",
    "    print(torch.max(dataset[i]['image']))"
   ]
  },
  {
   "cell_type": "code",
   "execution_count": null,
   "metadata": {},
   "outputs": [],
   "source": []
  },
  {
   "cell_type": "code",
   "execution_count": null,
   "metadata": {},
   "outputs": [],
   "source": []
  }
 ],
 "metadata": {
  "kernelspec": {
   "display_name": "Python 3",
   "language": "python",
   "name": "python3"
  },
  "language_info": {
   "codemirror_mode": {
    "name": "ipython",
    "version": 3
   },
   "file_extension": ".py",
   "mimetype": "text/x-python",
   "name": "python",
   "nbconvert_exporter": "python",
   "pygments_lexer": "ipython3",
   "version": "3.6.9"
  }
 },
 "nbformat": 4,
 "nbformat_minor": 4
}
